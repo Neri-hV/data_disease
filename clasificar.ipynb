{
 "cells": [
  {
   "cell_type": "markdown",
   "metadata": {},
   "source": [
    "## Mover un archivo de un lado a otro en base a una palabra clave"
   ]
  },
  {
   "cell_type": "code",
   "execution_count": 1,
   "metadata": {},
   "outputs": [],
   "source": [
    "import os\n",
    "import shutil\n"
   ]
  },
  {
   "cell_type": "code",
   "execution_count": 5,
   "metadata": {},
   "outputs": [],
   "source": [
    "\n",
    "def clasificar_archivos(carpeta_origen, carpeta_destino, palabra_clave):\n",
    "    # Obtener la lista de archivos en la carpeta de origen\n",
    "    archivos_en_carpeta = os.listdir(carpeta_origen)\n",
    "\n",
    "    for archivo in archivos_en_carpeta:\n",
    "        if archivo.endswith('.csv') and palabra_clave in archivo:\n",
    "            ruta_archivo = os.path.join(carpeta_origen, archivo)\n",
    "            ruta_destino = os.path.join(carpeta_destino, archivo)\n",
    "\n",
    "            # Utilizar shutil.move para trasladar el archivo\n",
    "            try:\n",
    "                shutil.move(ruta_archivo, ruta_destino)\n",
    "                print(f\"Archivo '{archivo}' trasladado a '{carpeta_destino}'.\")\n",
    "            except:\n",
    "                # Si no se puede trasladar, copiar en su lugar\n",
    "                shutil.copy2(ruta_archivo, ruta_destino)\n",
    "                print(f\"Archivo '{archivo}' copiado a '{carpeta_destino}' (no se pudo trasladar).\")\n",
    "\n",
    "# Llamamos a la función para buscar y trasladar archivos con la palabra clave\n",
    "carpeta_origen = 'C:/Users/USER/Documents/Boliva_entrega/Supporting_information_5/tuberculosis'\n",
    "carpeta_destino = 'C:/Users/USER/Documents/Boliva_entrega/Supporting_information_5/tuberculosis/respiratory_symptomatic'\n",
    "palabra_clave = 'respiratory'  # Reemplaza 'clave' con tu palabra clave\n"
   ]
  },
  {
   "cell_type": "code",
   "execution_count": 6,
   "metadata": {},
   "outputs": [
    {
     "name": "stdout",
     "output_type": "stream",
     "text": [
      "Archivo '2004_tuberculosis_respiratory_symptomatic.csv' trasladado a 'C:/Users/USER/Documents/Boliva_entrega/Supporting_information_5/tuberculosis/respiratory_symptomatic'.\n",
      "Archivo '2005_tuberculosis-and-leprosy_respiratory-symptomatic.csv' trasladado a 'C:/Users/USER/Documents/Boliva_entrega/Supporting_information_5/tuberculosis/respiratory_symptomatic'.\n",
      "Archivo '2006_tuberculosis-and-leprosy_respiratory-symptomatic.csv' trasladado a 'C:/Users/USER/Documents/Boliva_entrega/Supporting_information_5/tuberculosis/respiratory_symptomatic'.\n",
      "Archivo '2007_tuberculosis-and-leprosy_respiratory-symptomatic.csv' trasladado a 'C:/Users/USER/Documents/Boliva_entrega/Supporting_information_5/tuberculosis/respiratory_symptomatic'.\n"
     ]
    }
   ],
   "source": [
    "clasificar_archivos(carpeta_origen, carpeta_destino, palabra_clave)\n"
   ]
  }
 ],
 "metadata": {
  "kernelspec": {
   "display_name": "Python 3.11.4 64-bit ('enferm')",
   "language": "python",
   "name": "python3"
  },
  "language_info": {
   "codemirror_mode": {
    "name": "ipython",
    "version": 3
   },
   "file_extension": ".py",
   "mimetype": "text/x-python",
   "name": "python",
   "nbconvert_exporter": "python",
   "pygments_lexer": "ipython3",
   "version": "3.11.4"
  },
  "orig_nbformat": 4,
  "vscode": {
   "interpreter": {
    "hash": "5aedc585eb8429b027bc8a9dd6bd36e669d51f4f266a5736f0913926197b03d4"
   }
  }
 },
 "nbformat": 4,
 "nbformat_minor": 2
}
